{
  "nbformat": 4,
  "nbformat_minor": 0,
  "metadata": {
    "colab": {
      "name": "Assignment_7_Basic.ipynb",
      "provenance": [],
      "collapsed_sections": []
    },
    "kernelspec": {
      "name": "python3",
      "display_name": "Python 3"
    },
    "language_info": {
      "name": "python"
    }
  },
  "cells": [
    {
      "cell_type": "markdown",
      "metadata": {
        "id": "kwA7Z94GXA3U"
      },
      "source": [
        "1. re.compile() function is used to create regex.\n",
        "\n",
        "2. Raw strings are used so that we can avoid backslashes from escaping.\n",
        "\n",
        "3. search() method returns Match objects.\n",
        "\n",
        "4. group() method returns strings of the matched text.\n",
        "\n",
        "5. Group 0 covers the entire match, group 1 covers the first set of parentheses,\n",
        "and group 2 covers the second set of parentheses.\n",
        "\n",
        "6. We can esxcape parenthesis and pweriods with with a backslash. For example: backslash followed by period or parenthesis `\\., \\(, \\).`\n",
        "\n",
        "7. When the regex has no groups sepcified then a list of strings is returned. If the regex has groups, a list of tuples of strings is returned.\n",
        "\n",
        "8. The | character is used as **or** operator. For example, the regex `one|1` accepts strings \"one\" or \"1\".\n",
        "\n",
        "9. `\\w` is used to match a word.\n",
        "\n",
        "10. **+** matches one or more. * matches zero or more.\n",
        "\n",
        "11. `{4}` matches four ocurrances of the specified group. The\n",
        "`{4,5}` matches between four and five occurances.\n",
        "\n",
        "12. \\d, \\w, and \\s shorthand character classes match a single digit,\n",
        "word, or space character, respectively.\n",
        "\n",
        "13. \\D, \\W, and \\S shorthand character classes match a single character\n",
        "that is not a digit, word, or space character, respectively  \n",
        "\n",
        "14. The .* performs a greedy match, and the .*? performs a nongreedy\n",
        "match.\n",
        "\n",
        "15. [a-z0-9], [0-9a-z]\n",
        "\n",
        "16. Using re.I or re.IGNORECASE in re.compile() will make the matching case insensitive.\n",
        "\n",
        "17. The .(period) character matches any character except the newline\n",
        "character. If re.DOTALL is passed as the second argument to re.compile(),\n",
        "then the dot will match newline characters as well. \n",
        "\n",
        "18. 'X drummers, X pipers, five rings, X hens'\n",
        "\n",
        "19. re.VERBOSE is used to add whitespace and comments to the string passed to re.compile().\n",
        "\n",
        "20. `re.compile(r'^\\d{1,3}(,{3})*$')`\n",
        "\n",
        "21. `re.compile(r'[A-Z][a-z]*\\sWatanabe')`\n",
        "\n",
        "22. Answer:\n",
        "\n",
        "```\n",
        "re.compile(r'(Alice|Bob|Carol)\\s(eats|pets|throws)\\s(apples|cats|baseballs)\\.', re.IGNORECASE)\n",
        "```\n",
        "\n"
      ]
    },
    {
      "cell_type": "code",
      "metadata": {
        "colab": {
          "base_uri": "https://localhost:8080/",
          "height": 35
        },
        "id": "fSNKXEP4kAnd",
        "outputId": "f947f10b-b3cb-43b4-8bfb-61b6d6945d07"
      },
      "source": [
        "import re\n",
        "numRegex = re.compile(r'\\d+')\n",
        "numRegex.sub('X', '12 drummers, 11 pipers, five rings, 3 hens') "
      ],
      "execution_count": 2,
      "outputs": [
        {
          "output_type": "execute_result",
          "data": {
            "application/vnd.google.colaboratory.intrinsic+json": {
              "type": "string"
            },
            "text/plain": [
              "'X drummers, X pipers, five rings, X hens'"
            ]
          },
          "metadata": {
            "tags": []
          },
          "execution_count": 2
        }
      ]
    },
    {
      "cell_type": "markdown",
      "metadata": {
        "id": "XlXeIXmSW98H"
      },
      "source": [
        ""
      ]
    }
  ]
}