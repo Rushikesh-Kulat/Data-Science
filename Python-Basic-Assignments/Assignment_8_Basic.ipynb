{
  "nbformat": 4,
  "nbformat_minor": 0,
  "metadata": {
    "colab": {
      "name": "Assignment_8_Basic.ipynb",
      "provenance": [],
      "collapsed_sections": []
    },
    "kernelspec": {
      "name": "python3",
      "display_name": "Python 3"
    },
    "language_info": {
      "name": "python"
    }
  },
  "cells": [
    {
      "cell_type": "markdown",
      "metadata": {
        "id": "dx18-gUrpA6i"
      },
      "source": [
        "1. PyInputPlus is not a part of the Python Standard Library, so we must install it separately using Pip.\n",
        "\n",
        "2. The as **pyip** code in the import statement saves us from typing pyinputplus each time we want to call a **PyInputPlus** function. Instead we can use the shorter **pyip** name.\n",
        "\n",
        "3. inputInt(), and inputFloat() functions, which accept int and float numbers respectively \n",
        "\n",
        "4. we can use  `num = pyip.inputNum('>', min=0, lessThan=100)`\n",
        "\n",
        "5. The allowRegexes and blockRegexes keyword arguments take a list of regular expression strings to determine what the PyInputPlus function will accept or reject as valid input.\n",
        "\n",
        "6. It will cause the function to raise a RetryLimitException.\n",
        "\n",
        "7. The function will return the hello instead of raising an exception."
      ]
    }
  ]
}