{
  "nbformat": 4,
  "nbformat_minor": 0,
  "metadata": {
    "colab": {
      "name": "Assignment_4_Basic.ipynb",
      "provenance": [],
      "collapsed_sections": []
    },
    "kernelspec": {
      "name": "python3",
      "display_name": "Python 3"
    },
    "language_info": {
      "name": "python"
    }
  },
  "cells": [
    {
      "cell_type": "markdown",
      "metadata": {
        "id": "CIGEVxTPYlkY"
      },
      "source": [
        "1. The empty list value, which is a list value that contains no items. This is\n",
        "similar to how '' is the empty string value.\n",
        "\n",
        "2. spam[2] = 'hello' \n",
        "\n",
        "3. 'd' because ('3' * 2) / 11 will be 3. \n",
        "\n",
        "4. 'd'\n",
        "\n",
        "5. `['a', 'b']`\n",
        "\n",
        "6. 1\n",
        "\n",
        "7. `[3.14, 'cat', 11, 'cat', True, 99]`\n",
        "\n",
        "8. `[3.14, 11, 'cat', True]`\n",
        "\n",
        "9. The operator for list concatenation is +, while the operator for replication is *.\n",
        "\n",
        "10. append() is used to add values only to the end of a list, insert() can add\n",
        "them ant any index in the list.\n",
        "\n",
        "11. Two ways to remove values from a list are **del and remove()**\n",
        "\n",
        "12. Both lists and strings can be passed to len(), have index and slice operations, Both use + and * for concatination and replication.\n",
        "\n",
        "13.  Tuples are written using parentheses like (1,2), while lists use the square brackets like\n",
        "[1,2,3]. Lists are mutable. Tuples are immutable.\n",
        "\n",
        "14. (42,) \n",
        "\n",
        "15. tuple() and list()\n",
        "\n",
        "16. They contain references to list values.\n",
        "\n",
        "17. The copy.copy() function is used to do a shallow copy of a list, where as the\n",
        "copy.deepcopy() function is used to do a deep copy of a list."
      ]
    }
  ]
}