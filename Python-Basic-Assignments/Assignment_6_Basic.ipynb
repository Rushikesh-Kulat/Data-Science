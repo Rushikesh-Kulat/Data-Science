{
  "nbformat": 4,
  "nbformat_minor": 0,
  "metadata": {
    "colab": {
      "name": "Assignment_6_Basic.ipynb",
      "provenance": [],
      "collapsed_sections": []
    },
    "kernelspec": {
      "name": "python3",
      "display_name": "Python 3"
    },
    "language_info": {
      "name": "python"
    }
  },
  "cells": [
    {
      "cell_type": "markdown",
      "metadata": {
        "id": "fzqbbqumgusB"
      },
      "source": [
        "1. To insert characters that are illegal in a string, use an escape character. An escape character is a backslash \\ followed by the character you want to insert. \n",
        "\n",
        "2. \\n is a newline; \\t is a tab.\n",
        "\n",
        "3. The \\\\ escape character will represent a backslash character.\n",
        "\n",
        "4. The single quote in Howl's is fine because you’ve used double quotes to mark the beginning and end of the string.\n",
        "5. Multiline strings allow you to use newlines in strings without the \\n\n",
        "escape character.\n",
        "\n",
        "6. The expressions evaluate to the following:  \n",
        "'e'  \n",
        "'Hello'  \n",
        "'Hello'  \n",
        "'lo world!  \n",
        "\n",
        "7. The expressions evaluate to the following:  \n",
        "'HELLO'  \n",
        "True  \n",
        "'hello'  \n",
        "\n",
        "8. The expressions evaluate to the following:  \n",
        "`['Remember,', 'remember,', 'the', 'fifth', 'of', 'November.'] `  \n",
        "`'There-can-be-only-one.'`  \n",
        "\n",
        "9. rjust(), ljust(), and center() string methods\n",
        "\n",
        "10. The lstrip() removes whitespace from the left and rstrip() methods remove whitespace from and right ends of a string"
      ]
    }
  ]
}