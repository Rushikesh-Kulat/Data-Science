{
  "nbformat": 4,
  "nbformat_minor": 0,
  "metadata": {
    "colab": {
      "name": "Assignment_5_Basic.ipynb",
      "provenance": [],
      "collapsed_sections": []
    },
    "kernelspec": {
      "name": "python3",
      "display_name": "Python 3"
    },
    "language_info": {
      "name": "python"
    }
  },
  "cells": [
    {
      "cell_type": "markdown",
      "metadata": {
        "id": "bvbckKPeeA6t"
      },
      "source": [
        "1. Two curly brackets: {}\n",
        "\n",
        "2. `{'foo': 42}`\n",
        "\n",
        "3. The items in a list are ordered where as the items stored in a dictionary are unordered\n",
        "\n",
        "4. KeyError error will arise.\n",
        "\n",
        "5. There is no difference. The in operator will check whether a value exists as\n",
        "a key in the dictionary.\n",
        "\n",
        "6. 'cat' in spam will check whether there is a 'cat' key in the dictionary whereas 'cat' in spam.values() will check whether there is a value 'cat' for one of the keys in spam.\n",
        "\n",
        "7. `spam.setdefault('color', 'black')`\n",
        "\n",
        "8. `pprint.pprint()`"
      ]
    }
  ]
}