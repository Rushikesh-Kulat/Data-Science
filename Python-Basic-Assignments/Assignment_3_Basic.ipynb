{
  "nbformat": 4,
  "nbformat_minor": 0,
  "metadata": {
    "colab": {
      "name": "Assignment_3_Basic.ipynb",
      "provenance": []
    },
    "kernelspec": {
      "name": "python3",
      "display_name": "Python 3"
    },
    "language_info": {
      "name": "python"
    }
  },
  "cells": [
    {
      "cell_type": "markdown",
      "metadata": {
        "id": "kgnzVbXsOEYh"
      },
      "source": [
        "1. Functions reduces the size of code by eliminating duplicate code.\n"
      ]
    },
    {
      "cell_type": "markdown",
      "metadata": {
        "id": "3GM_x_caOJ62"
      },
      "source": [
        "2. The code in a function gets executed only when the function is called and not when it is defined.\n"
      ]
    },
    {
      "cell_type": "markdown",
      "metadata": {
        "id": "eyUBctiMOMZx"
      },
      "source": [
        "3. The def statement defines a function.\n"
      ]
    },
    {
      "cell_type": "markdown",
      "metadata": {
        "id": "cWI25HpZOPBy"
      },
      "source": [
        "4. A function consists of the def statement and the code.\n",
        "A function call will execute the code in function. \n"
      ]
    },
    {
      "cell_type": "markdown",
      "metadata": {
        "id": "AJp3wgeLORIe"
      },
      "source": [
        "5. There is one global scope, and One local scope."
      ]
    },
    {
      "cell_type": "markdown",
      "metadata": {
        "id": "48gdKBTcOSxP"
      },
      "source": [
        "6. When a function returns, the local scope is destroyed, and all the variables in it are freed.\n"
      ]
    },
    {
      "cell_type": "markdown",
      "metadata": {
        "id": "U4lc_hIbOUlD"
      },
      "source": [
        "7. A return value is the value that a functions return when it done executing.\n"
      ]
    },
    {
      "cell_type": "markdown",
      "metadata": {
        "id": "cwA_zgCROWT-"
      },
      "source": [
        "8. If there is no return statement for a function, its return value is None.\n"
      ]
    },
    {
      "cell_type": "markdown",
      "metadata": {
        "id": "L6WTJIxBOYD-"
      },
      "source": [
        "9. A global statement will force a variable in a function to refer to the\n",
        "global variable.\n"
      ]
    },
    {
      "cell_type": "markdown",
      "metadata": {
        "id": "3oSXID_aOZuI"
      },
      "source": [
        "10. The data type of None is NoneType.\n"
      ]
    },
    {
      "cell_type": "markdown",
      "metadata": {
        "id": "MQPkjkk0ObWi"
      },
      "source": [
        "11. Statement imports a module named areallyourpetsnamederic.\n"
      ]
    },
    {
      "cell_type": "markdown",
      "metadata": {
        "id": "yK5pLGJBOdFb"
      },
      "source": [
        "12. This function can be called with spam.bacon()."
      ]
    },
    {
      "cell_type": "markdown",
      "metadata": {
        "id": "V74ku9VEOfIT"
      },
      "source": [
        "13. We can do exception handling to avoid crashing of program. It can be acheived using try clause"
      ]
    },
    {
      "cell_type": "markdown",
      "metadata": {
        "id": "eJvD7gtiOg-B"
      },
      "source": [
        "14. The code that might cause an error is placed  in the try clause.\n",
        "The statements which will execute if an error happens are placedin the except clause"
      ]
    }
  ]
}