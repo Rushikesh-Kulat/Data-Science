{
  "nbformat": 4,
  "nbformat_minor": 0,
  "metadata": {
    "colab": {
      "name": "Basic_Programming_Assignment_1.ipynb",
      "provenance": []
    },
    "kernelspec": {
      "name": "python3",
      "display_name": "Python 3"
    },
    "language_info": {
      "name": "python"
    }
  },
  "cells": [
    {
      "cell_type": "code",
      "metadata": {
        "colab": {
          "base_uri": "https://localhost:8080/"
        },
        "id": "VhGSbkksllFL",
        "outputId": "85e80488-fe84-4869-c55f-536cba244596"
      },
      "source": [
        "#kilometer to miles\n",
        "km = float(input(\"Enter value in kilometers: \"))\n",
        "miles = km * 0.621371\n",
        "print('Kilometers: %0.2f\\nMiles: %0.2f' %(km,miles))\n"
      ],
      "execution_count": 2,
      "outputs": [
        {
          "output_type": "stream",
          "text": [
            "Enter value in kilometers: 10\n",
            "Kilometers: 10.00\n",
            "Miles: 6.21\n"
          ],
          "name": "stdout"
        }
      ]
    },
    {
      "cell_type": "code",
      "metadata": {
        "colab": {
          "base_uri": "https://localhost:8080/"
        },
        "id": "fs7a6hSymYhX",
        "outputId": "58a74845-a7b3-4f2a-bece-506c6ee338d3"
      },
      "source": [
        "#Celsius to Fahrenheit\n",
        "cel = float(input(\"Enter value in celsius : \"))\n",
        "fh = (cel * 1.8) + 32\n",
        "print('Celsius: %0.2f\\nFahrenheit : %0.2f' %(cel,fh))"
      ],
      "execution_count": 3,
      "outputs": [
        {
          "output_type": "stream",
          "text": [
            "Enter value in celsius : 32\n",
            "Celsius: 32.00\n",
            "Fahrenheit : 89.60\n"
          ],
          "name": "stdout"
        }
      ]
    },
    {
      "cell_type": "code",
      "metadata": {
        "colab": {
          "base_uri": "https://localhost:8080/"
        },
        "id": "EPvK273_m-qW",
        "outputId": "8d75f306-61bd-43f0-d163-17c6e39fd4e1"
      },
      "source": [
        "#To print calendar\n",
        "import calendar\n",
        "mm,yy=map(int, input(\"Enter Month and Year in mm yyyy format:\\n\").split())\n",
        "print(calendar.month(yy,mm))"
      ],
      "execution_count": 8,
      "outputs": [
        {
          "output_type": "stream",
          "text": [
            "Enter Month and Year in mm yyyy format:\n",
            "06 2021\n",
            "     June 2021\n",
            "Mo Tu We Th Fr Sa Su\n",
            "    1  2  3  4  5  6\n",
            " 7  8  9 10 11 12 13\n",
            "14 15 16 17 18 19 20\n",
            "21 22 23 24 25 26 27\n",
            "28 29 30\n",
            "\n"
          ],
          "name": "stdout"
        }
      ]
    },
    {
      "cell_type": "code",
      "metadata": {
        "colab": {
          "base_uri": "https://localhost:8080/"
        },
        "id": "cFBrSV8woKgF",
        "outputId": "fcae6590-ba57-44b7-8fe8-c6384b037a2b"
      },
      "source": [
        "#To solve quadratic equation\n",
        "import cmath\n",
        "a,b,c=map(int, input(\"Enter a, b, c\\n\").split())\n",
        "d = (b**2) - (4*a*c)\n",
        "sol1 = (-b-cmath.sqrt(d))/(2*a)  \n",
        "sol2 = (-b+cmath.sqrt(d))/(2*a)\n",
        "print('The solution are {0} and {1}'.format(sol1,sol2))"
      ],
      "execution_count": 15,
      "outputs": [
        {
          "output_type": "stream",
          "text": [
            "Enter a, b, c\n",
            "8 16 8\n",
            "The solution are (-1+0j) and (-1+0j)\n"
          ],
          "name": "stdout"
        }
      ]
    },
    {
      "cell_type": "code",
      "metadata": {
        "id": "QinAJ-hhovyf"
      },
      "source": [
        "#To swap without temp'\n",
        "a,b=map(int, input(\"Enter two numbers\\n\").split())\n",
        "print(\"Before swapping: Number 1:{}\\nNumber2: {}\".format(a,b))\n",
        "a=a+b\n",
        "b=a-b\n",
        "a=a-b\n",
        "print(\"After swapping:\\nNumber 1:{}\\nNumber2: {}\".format(a,b))"
      ],
      "execution_count": null,
      "outputs": []
    }
  ]
}