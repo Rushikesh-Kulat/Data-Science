{
  "nbformat": 4,
  "nbformat_minor": 0,
  "metadata": {
    "colab": {
      "name": "Assignment_9_Basic.ipynb",
      "provenance": [],
      "collapsed_sections": []
    },
    "kernelspec": {
      "name": "python3",
      "display_name": "Python 3"
    },
    "language_info": {
      "name": "python"
    }
  },
  "cells": [
    {
      "cell_type": "markdown",
      "metadata": {
        "id": "EzPzeUjwxEGR"
      },
      "source": [
        "1. A relative path refers to a location that is relative to a current directory\n",
        "\n",
        "2. An absolute path starts with root directory of system.\n",
        "\n",
        "3. os.getcwd() function is used to getthe current working directory.\n",
        "os.chdir() function is used to change the current working directory.\n",
        "\n",
        "4. The . folder is the current folder, and .. is the parent folder.\n",
        "\n",
        "5. C:\\bacon\\eggs is the dir name, while spam.txt is the base name.\n",
        "\n",
        "6. 'r' for read mode, 'w' for write mode, and 'a' for append mode\n",
        "\n",
        "7. An existing file opened in write mode is erased and completely\n",
        "overwritten.\n",
        "\n",
        "8. The read() method returns the file entire contents as a single string\n",
        "value. The readlines() method returns a list of strings, where each\n",
        "string is a line from the file contents.\n",
        "\n",
        "9. shelf value resembles a dictionary value. it has keys and values, along\n",
        "with keys() and values() methods that work similarly to the dictionary\n",
        "methods."
      ]
    }
  ]
}