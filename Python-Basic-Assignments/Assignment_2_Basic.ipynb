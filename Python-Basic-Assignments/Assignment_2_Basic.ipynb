{
  "nbformat": 4,
  "nbformat_minor": 0,
  "metadata": {
    "colab": {
      "name": "Assignment_2_Basic.ipynb",
      "provenance": [],
      "collapsed_sections": []
    },
    "kernelspec": {
      "name": "python3",
      "display_name": "Python 3"
    },
    "language_info": {
      "name": "python"
    }
  },
  "cells": [
    {
      "cell_type": "markdown",
      "metadata": {
        "id": "JSzYKixzG37J"
      },
      "source": [
        "1. True and False \n",
        "\n",
        "2. and , or, not\n",
        "\n",
        "3. True and True is True.  \n",
        "   True and False is False.  \n",
        "   not True is False.  \n",
        "   False and True is False.  \n",
        "   False and False is False.  \n",
        "   not False is True.  \n",
        "   False or True is True.  \n",
        "   False or False is False.  \n",
        "   True or True is True.  \n",
        "   True or False is True.  \n",
        "\n",
        "4. False\n",
        "   False\n",
        "   True\n",
        "   False\n",
        "   False\n",
        "   True\n",
        "\n",
        "5. ==, !=, <, >, <=,>=\n",
        "\n",
        "6. == is the comparison operator that compares two values and returns\n",
        "a Boolean, whereas = is the assignment operator that assigns a value to a\n",
        "variable. A condition is an expression used in a flow control statement that return a Boolean value.\n"
      ]
    },
    {
      "cell_type": "markdown",
      "metadata": {
        "id": "EjfuZuWdNWWn"
      },
      "source": [
        "\n",
        "\n",
        "```\n",
        "7. if spam == 10:\n",
        "    print('eggs') # Block 1\n",
        "   if spam > 5:\n",
        "    print('bacon') #Block 2\n",
        "   else:\n",
        "    print('ham') #Block 3\n",
        "    print('spam')\n",
        "    p rint('spam')\n",
        "```\n",
        "\n"
      ]
    },
    {
      "cell_type": "code",
      "metadata": {
        "id": "V3_G-vD2KC-8"
      },
      "source": [
        "#Question 8 Answer \n",
        "if spam == 1:\n",
        " print('Hello')\n",
        "elif spam == 2:\n",
        " print('Howdy')\n",
        "else:\n",
        " print('Greetings!')"
      ],
      "execution_count": null,
      "outputs": []
    },
    {
      "cell_type": "markdown",
      "metadata": {
        "id": "7tMt5XYpKSTT"
      },
      "source": [
        "9. Pressing ctrl-C will stop a program stuck in an infinite loop.  \n",
        "\n",
        "10. The break statement will stop the execution of loop and will execute statements outside the loop.\n",
        "    The continue statement will move the execution to the start of the loop for next iteration.  \n",
        "\n",
        "11. All three loops will do exact same thing. The range(10) call ranges from 0 to 9(n-1), range(0, 10) explicitly tells the loop to start at 0 and end at 9, and range(0, 10, 1) specifies that loop will increase the variable by 1 step on\n",
        "each iteration,  "
      ]
    },
    {
      "cell_type": "code",
      "metadata": {
        "id": "GiRTC865MGRI"
      },
      "source": [
        "#Question No 12 ANSWER:\n",
        "print(\"Using For\")\n",
        "for i in range(1, 11):\n",
        " print(i)\n",
        "\n",
        "print(\"Using While\")\n",
        "i = 1\n",
        "while i <= 10:\n",
        " print(i)\n",
        " i+=1"
      ],
      "execution_count": null,
      "outputs": []
    },
    {
      "cell_type": "markdown",
      "metadata": {
        "id": "qVQLi8llMx77"
      },
      "source": [
        "13. This function can be called with module_name.function_name() that is spam.bacon()."
      ]
    }
  ]
}