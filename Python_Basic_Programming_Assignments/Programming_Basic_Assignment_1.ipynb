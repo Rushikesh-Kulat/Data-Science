{
  "nbformat": 4,
  "nbformat_minor": 0,
  "metadata": {
    "colab": {
      "name": "Programming_Assignment1.ipynb",
      "provenance": [],
      "collapsed_sections": []
    },
    "kernelspec": {
      "name": "python3",
      "display_name": "Python 3"
    },
    "language_info": {
      "name": "python"
    }
  },
  "cells": [
    {
      "cell_type": "code",
      "metadata": {
        "id": "uZ2d5_BTAz2P"
      },
      "source": [
        "#Program to print Hello World\n",
        "print(\"Hello World\")"
      ],
      "execution_count": null,
      "outputs": []
    },
    {
      "cell_type": "code",
      "metadata": {
        "colab": {
          "base_uri": "https://localhost:8080/"
        },
        "id": "Bfr94E-0BEhP",
        "outputId": "863eece6-1abc-450d-a5e7-54f08ae9c441"
      },
      "source": [
        "#Program for Addition and division\n",
        "\n",
        "num1, num2= map(int, input(\"Enter Two Numbers: \").split())\n",
        "print(\"Addition: {}\\nDivision: {}\".format(num1+num2,num1/num2))"
      ],
      "execution_count": null,
      "outputs": [
        {
          "output_type": "stream",
          "text": [
            "Enter Two Numbers: 12 2\n",
            "Addition: 14\n",
            "Division: 6.0\n"
          ],
          "name": "stdout"
        }
      ]
    },
    {
      "cell_type": "code",
      "metadata": {
        "colab": {
          "base_uri": "https://localhost:8080/"
        },
        "id": "rGLOoJaYB6qG",
        "outputId": "dbd411fd-9f0d-4fe8-cdd8-86f75639663b"
      },
      "source": [
        "#Program for area of triangle\n",
        "b, h= map(int, input(\"Enter Base and height of triangle: \").split())\n",
        "print(\"Area of Triangle: {}\".format((b*h)/2))"
      ],
      "execution_count": null,
      "outputs": [
        {
          "output_type": "stream",
          "text": [
            "Enter Base and height of triangle: 20 40\n",
            "Area of Triangle: 400.0\n"
          ],
          "name": "stdout"
        }
      ]
    },
    {
      "cell_type": "code",
      "metadata": {
        "id": "-nyEkL2HDo2U",
        "colab": {
          "base_uri": "https://localhost:8080/"
        },
        "outputId": "94783754-536d-4f13-cd7b-5ca839f0abf8"
      },
      "source": [
        "#Program for swapping: \n",
        "num1, num2= map(int, input(\"Enter Two Numbers: Number 1 and Number 2\\n\").split())\n",
        "print(\"Before Swapping:\\nNumber1: {}\\nNumber2: {}\".format(num1,num2))\n",
        "num1,num2=num2, num1\n",
        "print(\"After Swapping:\\nNumber1: {}\\nNumber2: {}\".format(num1,num2))"
      ],
      "execution_count": 2,
      "outputs": [
        {
          "output_type": "stream",
          "text": [
            "Enter Two Numbers: Number 1 and Number 2\n",
            "10 20\n",
            "Before Swapping:\n",
            "Number1: 10\n",
            "Number2: 20\n",
            "After Swapping:\n",
            "Number1: 20\n",
            "Number2: 10\n"
          ],
          "name": "stdout"
        }
      ]
    },
    {
      "cell_type": "code",
      "metadata": {
        "colab": {
          "base_uri": "https://localhost:8080/"
        },
        "id": "vEkYznjejxLQ",
        "outputId": "01a999cf-a0ae-463b-bbc6-3a870ff43c6d"
      },
      "source": [
        "#Program to geneate random number(0-99)\n",
        "import random\n",
        "print(random.randint(0,99))"
      ],
      "execution_count": 4,
      "outputs": [
        {
          "output_type": "stream",
          "text": [
            "93\n"
          ],
          "name": "stdout"
        }
      ]
    }
  ]
}