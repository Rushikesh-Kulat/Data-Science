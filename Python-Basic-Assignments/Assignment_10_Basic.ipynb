{
  "nbformat": 4,
  "nbformat_minor": 0,
  "metadata": {
    "colab": {
      "name": "Assignment_10_Basic.ipynb",
      "provenance": [],
      "collapsed_sections": []
    },
    "kernelspec": {
      "name": "python3",
      "display_name": "Python 3"
    },
    "language_info": {
      "name": "python"
    }
  },
  "cells": [
    {
      "cell_type": "markdown",
      "metadata": {
        "id": "mgvV_AQqzoZR"
      },
      "source": [
        "1. shutil.copy() function copies a single file, whereas shutil.copytree()\n",
        "copies an entire folder along with all its contents.\n",
        "\n",
        "2. The shutil.move() function is used for renaming files.\n",
        "\n",
        "3. send2trash function moves a file or folder to the recycle bin and \n",
        "shutil function permanently delete files and folders\n",
        "\n",
        "4.  zipfile.ZipFile() function is equivalent to the open() function."
      ]
    },
    {
      "cell_type": "code",
      "metadata": {
        "id": "zRePICWi104j"
      },
      "source": [
        "#Question 5:\n",
        "import os, shutil\n",
        "folder = 'C:/Users/xyz/Downloads/Test/'\n",
        "destFolder = 'C:/Users/xyz/Downloads/Test/New Test/'\n",
        "\n",
        "for folderName, subfolders, filenames in os.walk(folder):\n",
        "        for subfolder in subfolders:\n",
        "            for filename in filenames:\n",
        "                if filename.endswith('.pdf'):\n",
        "                    shutil.copy(folder + filename, destFolder)"
      ],
      "execution_count": null,
      "outputs": []
    }
  ]
}