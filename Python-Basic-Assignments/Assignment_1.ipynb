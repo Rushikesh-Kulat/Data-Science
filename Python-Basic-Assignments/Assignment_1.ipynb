{
  "nbformat": 4,
  "nbformat_minor": 0,
  "metadata": {
    "colab": {
      "name": "Assignment_1.ipynb",
      "provenance": [],
      "collapsed_sections": []
    },
    "kernelspec": {
      "name": "python3",
      "display_name": "Python 3"
    }
  },
  "cells": [
    {
      "cell_type": "markdown",
      "metadata": {
        "id": "4Ik9Jt0psLog"
      },
      "source": [
        "**1. What are the differences between operators and values in the following.**\r\n",
        "    \r\n",
        "[i] * can be used as mutliplaction operator in case of integer or float operands. eg. 2 * 2 will yield 4 and in case of string operands * is used to repeat the string for given number of times eg. 'ABC'*3 will yield ABCABCABC.  \r\n",
        "  \r\n",
        "[ii] 'hello' is a simple string object.  \r\n",
        "\r\n",
        "[iii] -87.8 is a floating-point value.  \r\n",
        "\r\n",
        "[iv] - is a simple arithmetic operator used for subtraction.  \r\n",
        "  \r\n",
        "[v] / is an arithmetic operator used for addition.  \r\n",
        "  \r\n",
        "[vi] + can be used as addition operator in case of integer or float operands. eg. 2 + 2 will yield 4 also it can be used a concatination operator. eg. 'ABC'+'DE' will yield ABCDE.  \r\n",
        "  \r\n",
        "[vii] 6 is a simple integer value."
      ]
    },
    {
      "cell_type": "markdown",
      "metadata": {
        "id": "BXoFJaf8xQyW"
      },
      "source": [
        "**2. What is the difference between string and variable?**  \r\n",
        "  \r\n",
        "Variales are symbolic name which points to a perticular memory location where an value is stored.   Whereas strings are arrays of btyes representing a set of characters. The basic difference between can be seen in given example strings are are quoted inside single quote are double quote whereas variable are not quoted.  \r\n",
        "In given example spam is a variable name and 'spam' is a string object."
      ]
    },
    {
      "cell_type": "markdown",
      "metadata": {
        "id": "1-rfA0zMzDvR"
      },
      "source": [
        "**3. Describe three different data forms.**\r\n",
        "\r\n",
        "1. Integer\r\n",
        "2. Float\r\n",
        "3. String\r\n",
        "\r\n"
      ]
    },
    {
      "cell_type": "markdown",
      "metadata": {
        "id": "JzHnKj_6FiN5"
      },
      "source": [
        "**4. What is an expression made up of? What do all expressions do?**  \r\n",
        "Expressions are combination of values and operators. Expression returns/evaluates a single value."
      ]
    },
    {
      "cell_type": "markdown",
      "metadata": {
        "id": "595m3IjbGiN8"
      },
      "source": [
        " **5. This assignment statements, like spam = 10. What is the difference between an expression and a statement?**  \r\n",
        "A statement like spam=10 does not reduce to/return a single value where as  Expressions reduces to a single value. "
      ]
    },
    {
      "cell_type": "markdown",
      "metadata": {
        "id": "kPlGuP1hHauS"
      },
      "source": [
        "**6. After running the following code, what does the variable bacon contain?**  \r\n",
        "As in bacon + 1 expression the value is not being reassigned to becon. becon variable will contain value 20."
      ]
    },
    {
      "cell_type": "markdown",
      "metadata": {
        "id": "d9w37yBZHaoR"
      },
      "source": [
        "**7. What should the values of the following two terms be?**  \r\n",
        "Both expressions will return string 'spamspamspam'."
      ]
    },
    {
      "cell_type": "markdown",
      "metadata": {
        "id": "FsgrwwyCJFWt"
      },
      "source": [
        "**8. Why is eggs a valid variable name while 100 is invalid?**  \r\n",
        "Variable names cannot begin with a number hence 100 is a invalid variable name."
      ]
    },
    {
      "cell_type": "markdown",
      "metadata": {
        "id": "2_XfHLboJnHM"
      },
      "source": [
        "**9. What three functions can be used to get the integer, floating-point number or string version of a value?**  \r\n",
        "int(), float(), and str() can be used to  get the integer, floating-point number, and string versions of a value passed in them."
      ]
    },
    {
      "cell_type": "markdown",
      "metadata": {
        "id": "EtZEH2-dPuv7"
      },
      "source": [
        "**10. Why does this expression cause an error? How can you fix it?**  \r\n",
        "This will cause error as 99 is an integer and it cannot be concatenated to other strings with the + operator. We can correct it by typecasting 99 to string as: **I have eaten ' + str(99) + ' burritos.'**"
      ]
    }
  ]
}